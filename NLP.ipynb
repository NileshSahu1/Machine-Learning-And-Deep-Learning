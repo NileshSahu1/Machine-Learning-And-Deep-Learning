{
 "cells": [
  {
   "cell_type": "code",
   "execution_count": 1,
   "metadata": {},
   "outputs": [
    {
     "name": "stdout",
     "output_type": "stream",
     "text": [
      "Requirement already satisfied: nltk in c:\\users\\nilesh\\anaconda3\\lib\\site-packages (3.4)\n",
      "Requirement already satisfied: six in c:\\users\\nilesh\\anaconda3\\lib\\site-packages (from nltk) (1.12.0)\n",
      "Requirement already satisfied: singledispatch in c:\\users\\nilesh\\anaconda3\\lib\\site-packages (from nltk) (3.4.0.3)\n",
      "Note: you may need to restart the kernel to use updated packages.\n"
     ]
    }
   ],
   "source": [
    "pip install nltk"
   ]
  },
  {
   "cell_type": "code",
   "execution_count": 5,
   "metadata": {},
   "outputs": [],
   "source": [
    "import nltk"
   ]
  },
  {
   "cell_type": "code",
   "execution_count": 6,
   "metadata": {},
   "outputs": [
    {
     "name": "stderr",
     "output_type": "stream",
     "text": [
      "[nltk_data] Downloading package indian to\n",
      "[nltk_data]     C:\\Users\\NILESH\\AppData\\Roaming\\nltk_data...\n",
      "[nltk_data]   Package indian is already up-to-date!\n"
     ]
    },
    {
     "data": {
      "text/plain": [
       "True"
      ]
     },
     "execution_count": 6,
     "metadata": {},
     "output_type": "execute_result"
    }
   ],
   "source": [
    "nltk.download('indian')"
   ]
  },
  {
   "cell_type": "code",
   "execution_count": 7,
   "metadata": {},
   "outputs": [],
   "source": [
    "from nltk.corpus import indian"
   ]
  },
  {
   "cell_type": "code",
   "execution_count": 8,
   "metadata": {},
   "outputs": [
    {
     "data": {
      "text/plain": [
       "[[\"''\", 'सनातनवाद्यांनी', 'व', 'प्रतिगाम्यांनी', 'समाज', 'रसातळाला', 'नेला', 'असताना', 'या', 'अंधारात', 'बाळशास्त्री', 'जांभेकर', 'यांनी', \"'दर्पण'च्या\", 'माध्यमातून', 'पहिली', 'ज्ञानज्योत', 'तेववली', ',', \"''\", 'असे', 'प्रतिपादन', 'नटसम्राट', 'प्रभाकर', 'पणशीकर', 'यांनी', 'केले', '.'], ['दर्पणकार', 'बाळशास्त्री', 'जांभेकर', 'यांच्या', '१९५व्या', 'जयंतीनिमित्त', 'महाराष्ट्र', 'संपादक', 'परिषद', 'व', 'सिंधुदुर्ग', 'जिल्हा', 'मराठी', 'पत्रकार', 'संघाच्या', 'वतीने', 'तसेच', 'महाराष्ट्र', 'जर्नलिस्ट', 'फाउंडेशन', 'व', 'महाराष्ट्र', 'ग्रामीण', 'पत्रकार', 'संघाच्या', 'सहभागाने', 'अभिवादन', 'कार्यक्रम', 'आयोजित', 'केला', 'होता', '.'], ...]"
      ]
     },
     "execution_count": 8,
     "metadata": {},
     "output_type": "execute_result"
    }
   ],
   "source": [
    "marathi=indian.sents('marathi.pos')\n",
    "marathi"
   ]
  },
  {
   "cell_type": "code",
   "execution_count": 9,
   "metadata": {},
   "outputs": [
    {
     "name": "stderr",
     "output_type": "stream",
     "text": [
      "[nltk_data] Downloading package wordnet to\n",
      "[nltk_data]     C:\\Users\\NILESH\\AppData\\Roaming\\nltk_data...\n",
      "[nltk_data]   Package wordnet is already up-to-date!\n",
      "[nltk_data] Downloading package punkt to\n",
      "[nltk_data]     C:\\Users\\NILESH\\AppData\\Roaming\\nltk_data...\n",
      "[nltk_data]   Package punkt is already up-to-date!\n"
     ]
    },
    {
     "data": {
      "text/plain": [
       "True"
      ]
     },
     "execution_count": 9,
     "metadata": {},
     "output_type": "execute_result"
    }
   ],
   "source": [
    "nltk.download('wordnet')\n",
    "nltk.download('punkt')"
   ]
  },
  {
   "cell_type": "code",
   "execution_count": 10,
   "metadata": {},
   "outputs": [
    {
     "name": "stdout",
     "output_type": "stream",
     "text": [
      "rocks rock\n",
      "corpa language\n",
      "better good\n"
     ]
    }
   ],
   "source": [
    "from nltk.stem import WordNetLemmatizer\n",
    "lemmatizer=WordNetLemmatizer()\n",
    "print('rocks',lemmatizer.lemmatize('rocks'))\n",
    "print('corpa',lemmatizer.lemmatize('languages'))\n",
    "print('better',lemmatizer.lemmatize('better',pos='a'))"
   ]
  },
  {
   "cell_type": "code",
   "execution_count": 11,
   "metadata": {},
   "outputs": [
    {
     "name": "stdout",
     "output_type": "stream",
     "text": [
      "progarm  :  progarm\n",
      "programs  :  program\n",
      "programer  :  program\n",
      "programming  :  program\n",
      "caring  :  care\n",
      "languages  :  languag\n"
     ]
    }
   ],
   "source": [
    "from nltk.stem import PorterStemmer\n",
    "from nltk.tokenize import word_tokenize\n",
    "words=['progarm','programs','programer','programming','caring','languages']\n",
    "ps=PorterStemmer()\n",
    "for w in words:\n",
    "    print(w, \" : \" ,ps.stem(w))"
   ]
  },
  {
   "cell_type": "code",
   "execution_count": 12,
   "metadata": {},
   "outputs": [
    {
     "name": "stdout",
     "output_type": "stream",
     "text": [
      "Programers  :  program\n",
      "program  :  program\n",
      "with  :  with\n",
      "programing  :  program\n",
      "languages  :  languag\n"
     ]
    }
   ],
   "source": [
    "sentence = \"Programers program with programing languages\"\n",
    "words = word_tokenize(sentence) \n",
    "   \n",
    "for w in words: \n",
    "    print(w, \" : \", ps.stem(w))"
   ]
  },
  {
   "cell_type": "code",
   "execution_count": 13,
   "metadata": {},
   "outputs": [],
   "source": [
    "import pandas as pd\n",
    "import numpy as np\n",
    "import matplotlib.pyplot as plt"
   ]
  },
  {
   "cell_type": "code",
   "execution_count": 14,
   "metadata": {},
   "outputs": [
    {
     "data": {
      "text/html": [
       "<div>\n",
       "<style scoped>\n",
       "    .dataframe tbody tr th:only-of-type {\n",
       "        vertical-align: middle;\n",
       "    }\n",
       "\n",
       "    .dataframe tbody tr th {\n",
       "        vertical-align: top;\n",
       "    }\n",
       "\n",
       "    .dataframe thead th {\n",
       "        text-align: right;\n",
       "    }\n",
       "</style>\n",
       "<table border=\"1\" class=\"dataframe\">\n",
       "  <thead>\n",
       "    <tr style=\"text-align: right;\">\n",
       "      <th></th>\n",
       "      <th>Question</th>\n",
       "      <th>Answer</th>\n",
       "    </tr>\n",
       "  </thead>\n",
       "  <tbody>\n",
       "    <tr>\n",
       "      <th>0</th>\n",
       "      <td>What is the TOEFL test</td>\n",
       "      <td>The TOEFL test measures the ability of non-nat...</td>\n",
       "    </tr>\n",
       "    <tr>\n",
       "      <th>1</th>\n",
       "      <td>What is the difference between the TOEFL iBT t...</td>\n",
       "      <td>The TOEFL iBT test, delivered via the internet...</td>\n",
       "    </tr>\n",
       "    <tr>\n",
       "      <th>2</th>\n",
       "      <td>How do I know what an institution's score requ...</td>\n",
       "      <td>Each institution sets its own score requiremen...</td>\n",
       "    </tr>\n",
       "    <tr>\n",
       "      <th>3</th>\n",
       "      <td>How often is the test given</td>\n",
       "      <td>The TOEFL iBT test is given on fixed dates, mo...</td>\n",
       "    </tr>\n",
       "    <tr>\n",
       "      <th>4</th>\n",
       "      <td>How do I find testing locations and dates</td>\n",
       "      <td>Choose an available test date from among testi...</td>\n",
       "    </tr>\n",
       "  </tbody>\n",
       "</table>\n",
       "</div>"
      ],
      "text/plain": [
       "                                            Question  \\\n",
       "0                             What is the TOEFL test   \n",
       "1  What is the difference between the TOEFL iBT t...   \n",
       "2  How do I know what an institution's score requ...   \n",
       "3                        How often is the test given   \n",
       "4          How do I find testing locations and dates   \n",
       "\n",
       "                                              Answer  \n",
       "0  The TOEFL test measures the ability of non-nat...  \n",
       "1  The TOEFL iBT test, delivered via the internet...  \n",
       "2  Each institution sets its own score requiremen...  \n",
       "3  The TOEFL iBT test is given on fixed dates, mo...  \n",
       "4  Choose an available test date from among testi...  "
      ]
     },
     "execution_count": 14,
     "metadata": {},
     "output_type": "execute_result"
    }
   ],
   "source": [
    "data=pd.read_csv('QnA_toefl.csv')\n",
    "data.head()"
   ]
  },
  {
   "cell_type": "code",
   "execution_count": 15,
   "metadata": {},
   "outputs": [
    {
     "name": "stderr",
     "output_type": "stream",
     "text": [
      "[nltk_data] Downloading package stopwords to\n",
      "[nltk_data]     C:\\Users\\NILESH\\AppData\\Roaming\\nltk_data...\n",
      "[nltk_data]   Unzipping corpora\\stopwords.zip.\n",
      "[nltk_data] Downloading package punkt to\n",
      "[nltk_data]     C:\\Users\\NILESH\\AppData\\Roaming\\nltk_data...\n",
      "[nltk_data]   Package punkt is already up-to-date!\n"
     ]
    },
    {
     "data": {
      "text/plain": [
       "True"
      ]
     },
     "execution_count": 15,
     "metadata": {},
     "output_type": "execute_result"
    }
   ],
   "source": [
    "nltk.download('stopwords')\n",
    "nltk.download('punkt')"
   ]
  },
  {
   "cell_type": "code",
   "execution_count": 19,
   "metadata": {},
   "outputs": [
    {
     "data": {
      "text/plain": [
       "<50x107 sparse matrix of type '<class 'numpy.float64'>'\n",
       "\twith 190 stored elements in Compressed Sparse Row format>"
      ]
     },
     "execution_count": 19,
     "metadata": {},
     "output_type": "execute_result"
    }
   ],
   "source": [
    "from sklearn.feature_extraction.text import TfidfVectorizer\n",
    "vectorizer=TfidfVectorizer(\n",
    "    input='content',\n",
    "    lowercase=True,\n",
    "    stop_words='english'\n",
    ")\n",
    "transformed_data=vectorizer.fit_transform(data['Question'])\n",
    "transformed_data"
   ]
  },
  {
   "cell_type": "code",
   "execution_count": 23,
   "metadata": {},
   "outputs": [
    {
     "data": {
      "text/plain": [
       "<1x107 sparse matrix of type '<class 'numpy.float64'>'\n",
       "\twith 0 stored elements in Compressed Sparse Row format>"
      ]
     },
     "execution_count": 23,
     "metadata": {},
     "output_type": "execute_result"
    }
   ],
   "source": [
    "user_input='What is the TOEFL test'\n",
    "transformed_user_input=vectorizer.transform(['user_input'])\n",
    "transformed_user_input"
   ]
  },
  {
   "cell_type": "code",
   "execution_count": 29,
   "metadata": {},
   "outputs": [
    {
     "name": "stdout",
     "output_type": "stream",
     "text": [
      "The TOEFL test measures the ability of non-native English speakers to use and understand the English language as it is heard, spoken, read and written in the university classroom.\n",
      "Score: [[0.]]\n",
      "\n",
      "\n",
      "The TOEFL iBT test, delivered via the internet, measures reading, listening, speaking and writing skills. It is offered more than 50 times a year and is administered online at testing sites around the world.The revised TOEFL Paper-delivered Test, which replaces the TOEFL PBT test, measures reading, listening and writing. There is no speaking component because of the technical requirements of capturing spoken responses.\n",
      "Score: [[0.]]\n",
      "\n",
      "\n",
      "Each institution sets its own score requirements. You can start your score requirement research with the TOEFL Destination Search and then contact the institution for more specific requirements. If you're applying for postgraduate studies, find out if your institution requires other tests, such as the GRE(Graduate Record Examinations) test.\n",
      "Score: [[0.]]\n",
      "\n",
      "\n"
     ]
    }
   ],
   "source": [
    "from sklearn.metrics.pairwise import cosine_similarity\n",
    "cos_sims=[]\n",
    "for question in data['Question']:\n",
    "    sims=cosine_similarity(vectorizer.transform([question]),transformed_user_input)\n",
    "    cos_sims.append(sims)\n",
    "\n",
    "cos_sims\n",
    "\n",
    "ind = sorted(range(len(cos_sims)), key=lambda i: cos_sims[i], \n",
    "             reverse=True)[:3]\n",
    "for index in ind:\n",
    "    print(data.iloc[index,1])\n",
    "    print(\"Score:\",cos_sims[index])\n",
    "    print(\"\\n\")\n"
   ]
  },
  {
   "cell_type": "code",
   "execution_count": 35,
   "metadata": {},
   "outputs": [
    {
     "name": "stdout",
     "output_type": "stream",
     "text": [
      "Collecting python-telegram-bot\n",
      "  Downloading https://files.pythonhosted.org/packages/f6/1f/b9d41f2a582403279d22402971a5b74f318552c1faf6049bee1b69b0b177/python_telegram_bot-12.6.1-py2.py3-none-any.whl (371kB)\n",
      "Requirement already satisfied: certifi in c:\\users\\nilesh\\anaconda3\\lib\\site-packages (from python-telegram-bot) (2019.3.9)\n",
      "Requirement already satisfied: decorator>=4.4.0 in c:\\users\\nilesh\\anaconda3\\lib\\site-packages (from python-telegram-bot) (4.4.0)\n",
      "Requirement already satisfied: cryptography in c:\\users\\nilesh\\anaconda3\\lib\\site-packages (from python-telegram-bot) (2.6.1)\n",
      "Requirement already satisfied: tornado>=5.1 in c:\\users\\nilesh\\anaconda3\\lib\\site-packages (from python-telegram-bot) (6.0.2)\n",
      "Requirement already satisfied: future>=0.16.0 in c:\\users\\nilesh\\anaconda3\\lib\\site-packages (from python-telegram-bot) (0.17.1)\n",
      "Requirement already satisfied: six>=1.4.1 in c:\\users\\nilesh\\anaconda3\\lib\\site-packages (from cryptography->python-telegram-bot) (1.12.0)\n",
      "Requirement already satisfied: asn1crypto>=0.21.0 in c:\\users\\nilesh\\anaconda3\\lib\\site-packages (from cryptography->python-telegram-bot) (0.24.0)\n",
      "Requirement already satisfied: cffi!=1.11.3,>=1.8 in c:\\users\\nilesh\\anaconda3\\lib\\site-packages (from cryptography->python-telegram-bot) (1.12.2)\n",
      "Requirement already satisfied: pycparser in c:\\users\\nilesh\\anaconda3\\lib\\site-packages (from cffi!=1.11.3,>=1.8->cryptography->python-telegram-bot) (2.19)\n",
      "Installing collected packages: python-telegram-bot\n",
      "Successfully installed python-telegram-bot-12.6.1\n",
      "Note: you may need to restart the kernel to use updated packages.\n"
     ]
    }
   ],
   "source": [
    "pip install python-telegram-bot"
   ]
  },
  {
   "cell_type": "code",
   "execution_count": 36,
   "metadata": {},
   "outputs": [],
   "source": [
    "from telegram.ext import Updater, MessageHandler, CommandHandler, Filters"
   ]
  },
  {
   "cell_type": "code",
   "execution_count": null,
   "metadata": {},
   "outputs": [
    {
     "name": "stderr",
     "output_type": "stream",
     "text": [
      "C:\\Users\\NILESH\\Anaconda3\\lib\\site-packages\\ipykernel_launcher.py:17: TelegramDeprecationWarning: Old Handler API is deprecated - see https://git.io/fxJuV for details\n"
     ]
    },
    {
     "name": "stdout",
     "output_type": "stream",
     "text": [
      "Bot started\n",
      "what are the fees\n",
      "all about toefl\n",
      "how often is test given\n",
      "how do i find test locations\n"
     ]
    }
   ],
   "source": [
    "def start(bot,update):\n",
    "    update.message.reply_text('hi! I am a Bot')\n",
    "\n",
    "def getAnswer(bot, update):\n",
    "    question = update.message.text\n",
    "    print(question)\n",
    "    transformed_user_input = vectorizer.transform([question])\n",
    "    cos_sims = []\n",
    "    for question in data['Question']:\n",
    "        sims = cosine_similarity(vectorizer.transform([question]),transformed_user_input)\n",
    "    cos_sims.append(sims)\n",
    "    ind = cos_sims.index(max(cos_sims))\n",
    "    update.message.reply_text(data.iloc[ind,1])\n",
    "\n",
    "def main():\n",
    "# Create Updater object and attach dispatcher to it\n",
    "    updater = Updater(\"1191795267:AAF72-D3iLquUJFxxbVl2kWAzyAcyTnrJuM\")\n",
    "    dispatcher = updater.dispatcher\n",
    "    print(\"Bot started\")\n",
    "# Add command handler to dispatcher\n",
    "    start_handler = CommandHandler('start',start)\n",
    "    dispatcher.add_handler(start_handler)\n",
    "    getAnswer_handler = MessageHandler(Filters.text, getAnswer)\n",
    "    dispatcher.add_handler(getAnswer_handler)\n",
    "# Start the bot\n",
    "    updater.start_polling()\n",
    "# Run the bot until you press Ctrl-C\n",
    "    updater.idle()\n",
    "if __name__ == '__main__':\n",
    "    main() "
   ]
  },
  {
   "cell_type": "code",
   "execution_count": null,
   "metadata": {},
   "outputs": [],
   "source": []
  }
 ],
 "metadata": {
  "kernelspec": {
   "display_name": "Python 3",
   "language": "python",
   "name": "python3"
  },
  "language_info": {
   "codemirror_mode": {
    "name": "ipython",
    "version": 3
   },
   "file_extension": ".py",
   "mimetype": "text/x-python",
   "name": "python",
   "nbconvert_exporter": "python",
   "pygments_lexer": "ipython3",
   "version": "3.7.3"
  }
 },
 "nbformat": 4,
 "nbformat_minor": 2
}
