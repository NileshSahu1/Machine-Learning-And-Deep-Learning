{
 "cells": [
  {
   "cell_type": "code",
   "execution_count": 83,
   "metadata": {},
   "outputs": [],
   "source": [
    "import pandas as pd\n",
    "import numpy as np\n",
    "import matplotlib.pyplot as plt"
   ]
  },
  {
   "cell_type": "code",
   "execution_count": 84,
   "metadata": {},
   "outputs": [
    {
     "data": {
      "text/html": [
       "<div>\n",
       "<style scoped>\n",
       "    .dataframe tbody tr th:only-of-type {\n",
       "        vertical-align: middle;\n",
       "    }\n",
       "\n",
       "    .dataframe tbody tr th {\n",
       "        vertical-align: top;\n",
       "    }\n",
       "\n",
       "    .dataframe thead th {\n",
       "        text-align: right;\n",
       "    }\n",
       "</style>\n",
       "<table border=\"1\" class=\"dataframe\">\n",
       "  <thead>\n",
       "    <tr style=\"text-align: right;\">\n",
       "      <th></th>\n",
       "      <th>Alcohol</th>\n",
       "      <th>Malic_Acid</th>\n",
       "      <th>Ash</th>\n",
       "      <th>Ash_Alcanity</th>\n",
       "      <th>Magnesium</th>\n",
       "      <th>Total_Phenols</th>\n",
       "      <th>Flavanoids</th>\n",
       "      <th>Nonflavanoid_Phenols</th>\n",
       "      <th>Proanthocyanins</th>\n",
       "      <th>Color_Intensity</th>\n",
       "      <th>Hue</th>\n",
       "      <th>OD280</th>\n",
       "      <th>Proline</th>\n",
       "      <th>Customer_Segment</th>\n",
       "    </tr>\n",
       "  </thead>\n",
       "  <tbody>\n",
       "    <tr>\n",
       "      <th>0</th>\n",
       "      <td>14.23</td>\n",
       "      <td>1.71</td>\n",
       "      <td>2.43</td>\n",
       "      <td>15.6</td>\n",
       "      <td>127</td>\n",
       "      <td>2.80</td>\n",
       "      <td>3.06</td>\n",
       "      <td>0.28</td>\n",
       "      <td>2.29</td>\n",
       "      <td>5.64</td>\n",
       "      <td>1.04</td>\n",
       "      <td>3.92</td>\n",
       "      <td>1065</td>\n",
       "      <td>1</td>\n",
       "    </tr>\n",
       "    <tr>\n",
       "      <th>1</th>\n",
       "      <td>13.20</td>\n",
       "      <td>1.78</td>\n",
       "      <td>2.14</td>\n",
       "      <td>11.2</td>\n",
       "      <td>100</td>\n",
       "      <td>2.65</td>\n",
       "      <td>2.76</td>\n",
       "      <td>0.26</td>\n",
       "      <td>1.28</td>\n",
       "      <td>4.38</td>\n",
       "      <td>1.05</td>\n",
       "      <td>3.40</td>\n",
       "      <td>1050</td>\n",
       "      <td>1</td>\n",
       "    </tr>\n",
       "    <tr>\n",
       "      <th>2</th>\n",
       "      <td>13.16</td>\n",
       "      <td>2.36</td>\n",
       "      <td>2.67</td>\n",
       "      <td>18.6</td>\n",
       "      <td>101</td>\n",
       "      <td>2.80</td>\n",
       "      <td>3.24</td>\n",
       "      <td>0.30</td>\n",
       "      <td>2.81</td>\n",
       "      <td>5.68</td>\n",
       "      <td>1.03</td>\n",
       "      <td>3.17</td>\n",
       "      <td>1185</td>\n",
       "      <td>1</td>\n",
       "    </tr>\n",
       "    <tr>\n",
       "      <th>3</th>\n",
       "      <td>14.37</td>\n",
       "      <td>1.95</td>\n",
       "      <td>2.50</td>\n",
       "      <td>16.8</td>\n",
       "      <td>113</td>\n",
       "      <td>3.85</td>\n",
       "      <td>3.49</td>\n",
       "      <td>0.24</td>\n",
       "      <td>2.18</td>\n",
       "      <td>7.80</td>\n",
       "      <td>0.86</td>\n",
       "      <td>3.45</td>\n",
       "      <td>1480</td>\n",
       "      <td>1</td>\n",
       "    </tr>\n",
       "    <tr>\n",
       "      <th>4</th>\n",
       "      <td>13.24</td>\n",
       "      <td>2.59</td>\n",
       "      <td>2.87</td>\n",
       "      <td>21.0</td>\n",
       "      <td>118</td>\n",
       "      <td>2.80</td>\n",
       "      <td>2.69</td>\n",
       "      <td>0.39</td>\n",
       "      <td>1.82</td>\n",
       "      <td>4.32</td>\n",
       "      <td>1.04</td>\n",
       "      <td>2.93</td>\n",
       "      <td>735</td>\n",
       "      <td>1</td>\n",
       "    </tr>\n",
       "  </tbody>\n",
       "</table>\n",
       "</div>"
      ],
      "text/plain": [
       "   Alcohol  Malic_Acid   Ash  Ash_Alcanity  Magnesium  Total_Phenols  \\\n",
       "0    14.23        1.71  2.43          15.6        127           2.80   \n",
       "1    13.20        1.78  2.14          11.2        100           2.65   \n",
       "2    13.16        2.36  2.67          18.6        101           2.80   \n",
       "3    14.37        1.95  2.50          16.8        113           3.85   \n",
       "4    13.24        2.59  2.87          21.0        118           2.80   \n",
       "\n",
       "   Flavanoids  Nonflavanoid_Phenols  Proanthocyanins  Color_Intensity   Hue  \\\n",
       "0        3.06                  0.28             2.29             5.64  1.04   \n",
       "1        2.76                  0.26             1.28             4.38  1.05   \n",
       "2        3.24                  0.30             2.81             5.68  1.03   \n",
       "3        3.49                  0.24             2.18             7.80  0.86   \n",
       "4        2.69                  0.39             1.82             4.32  1.04   \n",
       "\n",
       "   OD280  Proline  Customer_Segment  \n",
       "0   3.92     1065                 1  \n",
       "1   3.40     1050                 1  \n",
       "2   3.17     1185                 1  \n",
       "3   3.45     1480                 1  \n",
       "4   2.93      735                 1  "
      ]
     },
     "execution_count": 84,
     "metadata": {},
     "output_type": "execute_result"
    }
   ],
   "source": [
    "data=pd.read_csv('Wine.csv')\n",
    "data.head()"
   ]
  },
  {
   "cell_type": "code",
   "execution_count": 85,
   "metadata": {},
   "outputs": [
    {
     "data": {
      "text/plain": [
       "2    71\n",
       "1    59\n",
       "3    48\n",
       "Name: Customer_Segment, dtype: int64"
      ]
     },
     "execution_count": 85,
     "metadata": {},
     "output_type": "execute_result"
    }
   ],
   "source": [
    "data['Customer_Segment'].value_counts()    #.unique()"
   ]
  },
  {
   "cell_type": "code",
   "execution_count": 86,
   "metadata": {},
   "outputs": [
    {
     "data": {
      "text/plain": [
       "<matplotlib.axes._subplots.AxesSubplot at 0x1c999fa6898>"
      ]
     },
     "execution_count": 86,
     "metadata": {},
     "output_type": "execute_result"
    },
    {
     "data": {
      "image/png": "[encoded data removed]",
      "text/plain": [
       "<Figure size 432x288 with 1 Axes>"
      ]
     },
     "metadata": {
      "needs_background": "light"
     },
     "output_type": "display_data"
    }
   ],
   "source": [
    "data['Customer_Segment'].value_counts().plot.bar()"
   ]
  },
  {
   "cell_type": "code",
   "execution_count": 87,
   "metadata": {},
   "outputs": [
    {
     "data": {
      "text/plain": [
       "(178, 14)"
      ]
     },
     "execution_count": 87,
     "metadata": {},
     "output_type": "execute_result"
    }
   ],
   "source": [
    "data.shape"
   ]
  },
  {
   "cell_type": "code",
   "execution_count": 88,
   "metadata": {},
   "outputs": [],
   "source": [
    "X=data.iloc[:,0:13].values\n",
    "y=data.iloc[:,13].values"
   ]
  },
  {
   "cell_type": "code",
   "execution_count": 89,
   "metadata": {},
   "outputs": [],
   "source": [
    "from sklearn.model_selection import train_test_split\n",
    "X_train,X_test,y_train,y_test=train_test_split(X,y,test_size=0.25,random_state=0)"
   ]
  },
  {
   "cell_type": "code",
   "execution_count": 90,
   "metadata": {},
   "outputs": [],
   "source": [
    "from sklearn.preprocessing import StandardScaler\n",
    "sc=StandardScaler()\n",
    "X_train=sc.fit_transform(X_train)\n",
    "X_test=sc.fit_transform(X_test)"
   ]
  },
  {
   "cell_type": "code",
   "execution_count": 95,
   "metadata": {},
   "outputs": [
    {
     "data": {
      "text/plain": [
       "array([0.33860952, 0.21153835])"
      ]
     },
     "execution_count": 95,
     "metadata": {},
     "output_type": "execute_result"
    }
   ],
   "source": [
    "from sklearn.decomposition import PCA\n",
    "pca=PCA(n_components=2)\n",
    "X_train=pca.fit_transform(X_train)\n",
    "X_test=pca.fit_transform(X_test)\n",
    "explained_variance=pca.explained_variance_ratio_\n",
    "explained_variance"
   ]
  },
  {
   "cell_type": "code",
   "execution_count": 96,
   "metadata": {},
   "outputs": [
    {
     "data": {
      "text/plain": [
       "array([[ 2.12849974, -1.01973208],\n",
       "       [-2.94812519, -0.25480671],\n",
       "       [ 1.91979542,  1.33701156],\n",
       "       [-2.13337607, -0.94589715],\n",
       "       [ 2.23680281, -2.2698391 ],\n",
       "       [-2.28747076, -0.19935925],\n",
       "       [-2.97244958, -0.29652264],\n",
       "       [ 2.61809796, -0.77607001],\n",
       "       [-1.04705463, -3.49093326],\n",
       "       [ 2.60981596,  0.07345697],\n",
       "       [ 0.15229677,  2.31809388],\n",
       "       [-2.61422416, -2.54812754],\n",
       "       [-2.50949512, -0.42770866],\n",
       "       [ 1.72319479,  0.9119946 ],\n",
       "       [-2.75936377, -0.38668107],\n",
       "       [-2.82343185, -1.89597038],\n",
       "       [ 1.36403459,  0.08545164],\n",
       "       [-2.43383713,  0.11573802],\n",
       "       [-2.25731631,  0.48629142],\n",
       "       [ 1.12118381,  2.51095575],\n",
       "       [-2.30339155,  1.25712557],\n",
       "       [-2.50110791, -0.53720002],\n",
       "       [ 0.16381003,  1.29094356],\n",
       "       [ 2.55406891, -1.06285353],\n",
       "       [-0.76747938,  3.08596417],\n",
       "       [ 2.5338645 ,  0.10347674],\n",
       "       [-0.51186299,  0.6924718 ],\n",
       "       [ 0.53867836, -0.32318566],\n",
       "       [ 3.55987441, -1.34755387],\n",
       "       [ 1.6194568 ,  1.4719477 ],\n",
       "       [ 2.61872861, -0.02487434],\n",
       "       [-3.5807531 , -0.7377408 ],\n",
       "       [-1.58323537, -2.39481792],\n",
       "       [ 1.44566293,  1.42529469],\n",
       "       [ 0.00747886,  2.10807917],\n",
       "       [-0.15503957,  2.87859455],\n",
       "       [-2.35609895, -2.41121931],\n",
       "       [-3.11008066,  0.41346485],\n",
       "       [ 3.25867129, -0.27763681],\n",
       "       [-3.50784308, -1.72550896],\n",
       "       [-0.43082021,  2.64346544],\n",
       "       [-0.52357367,  2.0293958 ],\n",
       "       [-1.10965462,  0.78276115],\n",
       "       [ 1.00968727,  1.37570996],\n",
       "       [ 1.98247419,  1.70019796],\n",
       "       [ 2.77325961, -1.76838941],\n",
       "       [ 2.06945493, -1.27720697],\n",
       "       [ 0.86058696,  2.08160358],\n",
       "       [ 3.51764429, -1.34777921],\n",
       "       [-3.77996006, -0.0379212 ],\n",
       "       [ 1.72749292,  0.53164917],\n",
       "       [-3.42557047, -0.79855207],\n",
       "       [ 3.14791384, -0.738564  ],\n",
       "       [ 2.38109106, -1.62455368],\n",
       "       [ 1.28316687,  0.9539607 ],\n",
       "       [ 3.57366728, -1.69259754],\n",
       "       [ 0.91205833,  2.42502183],\n",
       "       [ 0.46702232,  2.13917446],\n",
       "       [ 3.816364  , -2.8154784 ],\n",
       "       [-2.32677847, -2.08857718],\n",
       "       [-1.52142992,  1.4117883 ],\n",
       "       [ 2.51818928, -1.24415522],\n",
       "       [-0.67794165,  0.30910614],\n",
       "       [-0.76604546,  2.543811  ],\n",
       "       [ 0.86364963,  1.51546118],\n",
       "       [-1.23880696,  0.05842729],\n",
       "       [ 2.21186398, -0.75327563],\n",
       "       [-3.82956254, -0.52570084],\n",
       "       [-1.76777879, -1.31951728],\n",
       "       [ 4.35873299, -2.24834474],\n",
       "       [ 3.33591108, -1.39194415],\n",
       "       [-1.48478755,  1.94049512],\n",
       "       [-2.70337927, -2.0696139 ],\n",
       "       [ 2.79538972, -1.28878345],\n",
       "       [ 1.85926517, -0.63278761],\n",
       "       [-0.45390503,  2.23873339],\n",
       "       [-0.08324794,  1.23099611],\n",
       "       [ 1.97449797, -0.16873411],\n",
       "       [ 2.25985213, -1.23442885],\n",
       "       [ 0.78932362, -0.20174666],\n",
       "       [-3.27020912, -2.13610115],\n",
       "       [ 0.96009268,  0.78354961],\n",
       "       [ 2.30520847,  0.29465828],\n",
       "       [ 0.81181708,  1.44079738],\n",
       "       [-2.26440851, -0.44417829],\n",
       "       [ 3.13752247, -1.22442962],\n",
       "       [-1.67949916,  1.78087335],\n",
       "       [-2.82728701, -0.06904436],\n",
       "       [-2.65197806, -0.24969206],\n",
       "       [ 1.97882761, -1.59155072],\n",
       "       [ 1.61795568,  0.76670346],\n",
       "       [-2.03958713, -0.18931772],\n",
       "       [ 2.30154259, -1.84752991],\n",
       "       [-2.26940785, -0.15781541],\n",
       "       [-0.39174321,  1.97595383],\n",
       "       [ 1.49041281, -0.62547344],\n",
       "       [ 2.24738714, -0.68807389],\n",
       "       [-0.38914033,  1.96394119],\n",
       "       [ 2.76957033, -1.46161853],\n",
       "       [-2.82921453, -1.83350745],\n",
       "       [-1.50730937,  1.31749083],\n",
       "       [-3.28214353, -1.14390897],\n",
       "       [ 1.70930763, -0.05875369],\n",
       "       [-2.87703277, -0.34578546],\n",
       "       [-2.27186276, -2.09219986],\n",
       "       [-3.47678381, -1.18758425],\n",
       "       [ 2.32543116, -0.24433778],\n",
       "       [ 1.46611705,  2.06782916],\n",
       "       [-0.38276186,  2.41793363],\n",
       "       [ 0.45016351,  1.05312379],\n",
       "       [ 0.57277608,  3.88076632],\n",
       "       [-2.71728029, -1.49037448],\n",
       "       [-3.13804648, -2.68476716],\n",
       "       [-0.6145067 ,  1.12400443],\n",
       "       [-1.36227447,  1.56046239],\n",
       "       [ 1.02517955, -0.77977819],\n",
       "       [ 1.1212214 ,  1.43499022],\n",
       "       [-2.84028822, -1.17419974],\n",
       "       [-2.32603653, -2.38615103],\n",
       "       [ 2.54215407, -1.77306082],\n",
       "       [ 3.2090254 , -1.76888456],\n",
       "       [-2.68218112, -0.15282934],\n",
       "       [-1.00468497,  1.85934423],\n",
       "       [-1.46565835,  1.05942947],\n",
       "       [-0.46541491,  2.4893249 ],\n",
       "       [ 1.44880978, -0.61672708],\n",
       "       [ 1.12753462, -0.20664653],\n",
       "       [ 2.81765565, -0.84587355],\n",
       "       [-0.54039813,  2.69352638],\n",
       "       [ 0.29421105,  2.43046262],\n",
       "       [-0.03318436,  2.0661135 ],\n",
       "       [ 2.88689907, -0.71408606],\n",
       "       [-2.39279562, -2.1322219 ]])"
      ]
     },
     "execution_count": 96,
     "metadata": {},
     "output_type": "execute_result"
    }
   ],
   "source": [
    "X_train"
   ]
  },
  {
   "cell_type": "code",
   "execution_count": 97,
   "metadata": {},
   "outputs": [
    {
     "name": "stderr",
     "output_type": "stream",
     "text": [
      "C:\\Users\\NILESH\\Anaconda3\\lib\\site-packages\\sklearn\\linear_model\\logistic.py:433: FutureWarning: Default solver will be changed to 'lbfgs' in 0.22. Specify a solver to silence this warning.\n",
      "  FutureWarning)\n",
      "C:\\Users\\NILESH\\Anaconda3\\lib\\site-packages\\sklearn\\linear_model\\logistic.py:460: FutureWarning: Default multi_class will be changed to 'auto' in 0.22. Specify the multi_class option to silence this warning.\n",
      "  \"this warning.\", FutureWarning)\n"
     ]
    },
    {
     "data": {
      "text/plain": [
       "LogisticRegression(C=1.0, class_weight=None, dual=False, fit_intercept=True,\n",
       "          intercept_scaling=1, max_iter=100, multi_class='warn',\n",
       "          n_jobs=None, penalty='l2', random_state=0, solver='warn',\n",
       "          tol=0.0001, verbose=0, warm_start=False)"
      ]
     },
     "execution_count": 97,
     "metadata": {},
     "output_type": "execute_result"
    }
   ],
   "source": [
    "from sklearn.linear_model import LogisticRegression\n",
    "classifier=LogisticRegression(random_state=0)\n",
    "classifier.fit(X_train,y_train)"
   ]
  },
  {
   "cell_type": "code",
   "execution_count": 98,
   "metadata": {},
   "outputs": [],
   "source": [
    "y_pred=classifier.predict(X_test)"
   ]
  },
  {
   "cell_type": "code",
   "execution_count": 99,
   "metadata": {},
   "outputs": [
    {
     "name": "stdout",
     "output_type": "stream",
     "text": [
      "[3 1 2 3 2 3 3 1 2 2 1 1 3 2 1 2 3 3 1 3]\n",
      "[1 3 2 1 2 2 1 3 2 2 3 3 1 2 3 2 1 1 2 1]\n"
     ]
    }
   ],
   "source": [
    "print(y_pred[:20])\n",
    "print(y_test[:20])"
   ]
  },
  {
   "cell_type": "code",
   "execution_count": 100,
   "metadata": {},
   "outputs": [
    {
     "data": {
      "text/plain": [
       "array([[ 0,  0, 16],\n",
       "       [ 2, 18,  1],\n",
       "       [ 8,  0,  0]], dtype=int64)"
      ]
     },
     "execution_count": 100,
     "metadata": {},
     "output_type": "execute_result"
    }
   ],
   "source": [
    "from sklearn.metrics import confusion_matrix\n",
    "cm=confusion_matrix(y_test,y_pred)\n",
    "cm"
   ]
  },
  {
   "cell_type": "code",
   "execution_count": 101,
   "metadata": {},
   "outputs": [
    {
     "data": {
      "text/plain": [
       "0.4"
      ]
     },
     "execution_count": 101,
     "metadata": {},
     "output_type": "execute_result"
    }
   ],
   "source": [
    "from sklearn.metrics import accuracy_score as acc\n",
    "acc(y_test,y_pred)"
   ]
  },
  {
   "cell_type": "code",
   "execution_count": null,
   "metadata": {},
   "outputs": [],
   "source": []
  },
  {
   "cell_type": "code",
   "execution_count": null,
   "metadata": {},
   "outputs": [],
   "source": []
  }
 ],
 "metadata": {
  "kernelspec": {
   "display_name": "Python 3",
   "language": "python",
   "name": "python3"
  },
  "language_info": {
   "codemirror_mode": {
    "name": "ipython",
    "version": 3
   },
   "file_extension": ".py",
   "mimetype": "text/x-python",
   "name": "python",
   "nbconvert_exporter": "python",
   "pygments_lexer": "ipython3",
   "version": "3.7.3"
  }
 },
 "nbformat": 4,
 "nbformat_minor": 2
}
